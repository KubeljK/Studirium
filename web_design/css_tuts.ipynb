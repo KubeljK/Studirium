{
 "cells": [
  {
   "cell_type": "markdown",
   "metadata": {},
   "source": [
    "# CSS"
   ]
  },
  {
   "cell_type": "markdown",
   "metadata": {},
   "source": [
    "## CSS positioning\n",
    "![alt text](https://s3.amazonaws.com/codecademy-blog/assets/ae09140c.png)\n"
   ]
  },
  {
   "cell_type": "markdown",
   "metadata": {},
   "source": [
    "```CSS\n",
    "div {\n",
    "\theight: 50px;\n",
    "\twidth: 100px;\n",
    "\tborder: 2px solid black;\n",
    "\tborder-radius: 5px;\n",
    "\tmargin: auto; /*center to middle*/\n",
    "    margin: 1px 2px 3px 4px; /*set top, right, bottom and left margin*/\n",
    "    padding: 40px; /*all sides*/\n",
    "    \n",
    "    float: right;\n",
    "    clear: both;\n",
    "    \n",
    "    /*Define how child elements are positioned*/\n",
    "    position: absolute; /*can be static or relative*/\n",
    "\n",
    "}\n",
    "```"
   ]
  },
  {
   "cell_type": "code",
   "execution_count": null,
   "metadata": {},
   "outputs": [],
   "source": []
  }
 ],
 "metadata": {
  "kernelspec": {
   "display_name": "Python 3",
   "language": "python",
   "name": "python3"
  },
  "language_info": {
   "codemirror_mode": {
    "name": "ipython",
    "version": 3
   },
   "file_extension": ".py",
   "mimetype": "text/x-python",
   "name": "python",
   "nbconvert_exporter": "python",
   "pygments_lexer": "ipython3",
   "version": "3.6.4"
  }
 },
 "nbformat": 4,
 "nbformat_minor": 2
}
