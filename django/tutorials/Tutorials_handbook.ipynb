{
 "cells": [
  {
   "cell_type": "markdown",
   "metadata": {},
   "source": [
    "### Creating the project"
   ]
  },
  {
   "cell_type": "code",
   "execution_count": null,
   "metadata": {},
   "outputs": [],
   "source": [
    "# create the project:\n",
    "$ django-admin startproject mysite\n",
    "\n",
    "# the infrastructure:\n",
    "mysite/ # name doesn't matter\n",
    "    manage.py # for  interaction with project\n",
    "    mysite/\n",
    "        __init__.py\n",
    "        settings.py # project settings\n",
    "        urls.py # \"table of content\"\n",
    "        wsgi.py # start for wsgi servers"
   ]
  },
  {
   "cell_type": "code",
   "execution_count": null,
   "metadata": {},
   "outputs": [],
   "source": [
    "# in folder mysite run the server\n",
    "$ python manage.py runserver 8000\n",
    "# access it at http://127.0.0.1:8000/"
   ]
  },
  {
   "cell_type": "markdown",
   "metadata": {},
   "source": [
    "### Creating an app"
   ]
  },
  {
   "cell_type": "code",
   "execution_count": null,
   "metadata": {},
   "outputs": [],
   "source": [
    "# in main folder mysite/ create an app\n",
    "$ python manage.py startapp polls\n",
    "\n",
    "# the infrastructure\n",
    "polls/\n",
    "    __init__.py\n",
    "    admin.py\n",
    "    apps.py\n",
    "    migrations/\n",
    "        __init__.py\n",
    "    models.py\n",
    "    tests.py\n",
    "    views.py\n",
    "    -> urls.py # add later"
   ]
  },
  {
   "cell_type": "markdown",
   "metadata": {},
   "source": [
    "#### Write the first view"
   ]
  },
  {
   "cell_type": "code",
   "execution_count": null,
   "metadata": {},
   "outputs": [],
   "source": [
    "# edit polls/views.py\n",
    "from django.http import HttpResponse\n",
    "\n",
    "\n",
    "def index(request):\n",
    "    return HttpResponse(\"Hello, world. You're at the polls index.\")\n",
    "# The simplest view in Django.\n",
    "# To call it we need to map it to URL."
   ]
  },
  {
   "cell_type": "code",
   "execution_count": null,
   "metadata": {},
   "outputs": [],
   "source": [
    "# Add \"urls.py\"  to the polls/ folder\n",
    "# edit polls/urls.py\n",
    "# Show, what url needs to be accessed to get to the view.\n",
    "from django.conf.urls import url\n",
    "\n",
    "from . import views\n",
    "\n",
    "urlpatterns = [\n",
    "    url(r'^$', views.index, name='index'),\n",
    "]"
   ]
  },
  {
   "cell_type": "code",
   "execution_count": null,
   "metadata": {},
   "outputs": [],
   "source": [
    "# Point the root URLconf at polls.urls module\n",
    "# edit mysite/urls.py\n",
    "from django.conf.urls import include, url\n",
    "from django.contrib import admin\n",
    "\n",
    "urlpatterns = [\n",
    "    url(r'^polls/', include('polls.urls')),\n",
    "    url(r'^admin/', admin.site.urls),\n",
    "]\n",
    "\n",
    "# Always use include for other URL patterns.\n",
    "# admin.site.urls is the only exception."
   ]
  },
  {
   "cell_type": "code",
   "execution_count": null,
   "metadata": {},
   "outputs": [],
   "source": [
    "# Try if the view works.\n",
    "$ python manage.py runserver 8000\n",
    "# Access it at http://127.0.0.1:8000/polls/\n",
    "# You should see the text."
   ]
  },
  {
   "cell_type": "markdown",
   "metadata": {},
   "source": [
    "#### Database setup"
   ]
  },
  {
   "cell_type": "code",
   "execution_count": null,
   "metadata": {},
   "outputs": [],
   "source": [
    "# change mysite/settings.py\n",
    "DATABASES = {\n",
    "    'default': {\n",
    "        'ENGINE': 'django.db.backends.postgresql',\n",
    "        'NAME': 'mydatabase',\n",
    "        'USER': 'mydatabaseuser',\n",
    "        'PASSWORD': 'mypassword',\n",
    "        'HOST': '127.0.0.1',\n",
    "        'PORT': '5432',\n",
    "    }\n",
    "}"
   ]
  },
  {
   "cell_type": "code",
   "execution_count": null,
   "metadata": {},
   "outputs": [],
   "source": [
    "# The INSTALLED_APS contains the default apps.\n",
    "# Some of them need at least one database table, so create it:\n",
    "$ python manage.py migrate\n",
    "# It looks at the INSTALLED_APS  and creates neccessaty DBs.\n",
    "# Check with \\dt in postgreSQL."
   ]
  },
  {
   "cell_type": "markdown",
   "metadata": {},
   "source": [
    "### Creating models\n",
    "Essentially the database layout."
   ]
  },
  {
   "cell_type": "code",
   "execution_count": null,
   "metadata": {},
   "outputs": [],
   "source": [
    "# edit polls/models.py\n",
    "# Class represents a database table.\n",
    "# Class attributes represent a table field.\n",
    "from django.db import models\n",
    "\n",
    "\n",
    "class Question(models.Model):\n",
    "    question_text = models.CharField(max_length=200)\n",
    "    pub_date = models.DateTimeField('date published')\n",
    "    \n",
    "    def __str__(self): # The name shown in database/admin page.\n",
    "        return self.question_text\n",
    "\n",
    "\n",
    "class Choice(models.Model):\n",
    "    question = models.ForeignKey(Question, on_delete=models.CASCADE)\n",
    "    choice_text = models.CharField(max_length=200)\n",
    "    votes = models.IntegerField(default=0)"
   ]
  },
  {
   "cell_type": "markdown",
   "metadata": {},
   "source": [
    "#### Activating model"
   ]
  },
  {
   "cell_type": "code",
   "execution_count": null,
   "metadata": {},
   "outputs": [],
   "source": [
    "# Add the new model myseite/settings.py\n",
    "INSTALLED_APPS = [\n",
    "    'polls.apps.PollsConfig',\n",
    "    ...\n",
    "]\n",
    "\n",
    "# Tell django you made changes\n",
    "$ python manage.py makemigrations polls\n",
    "# Migrations is how django stores changes to models\n",
    "# What would that migrate do?\n",
    "$ python manage.py sqlmigrate polls 0001\n",
    "\n",
    "# Now run migrate again to create those model tables in DB\n",
    "$ python manage.py migrate\n",
    "# It takes all the migrations that you haven't applies and runs them."
   ]
  },
  {
   "cell_type": "code",
   "execution_count": null,
   "metadata": {},
   "outputs": [],
   "source": [
    "1. # Change your models (in models.py).\n",
    "2. $ python manage.py makemigrations # to create migrations for those changes\n",
    "3. $ python manage.py migrate # to apply those changes to the database."
   ]
  },
  {
   "cell_type": "markdown",
   "metadata": {},
   "source": [
    "### Reset database"
   ]
  },
  {
   "cell_type": "code",
   "execution_count": null,
   "metadata": {},
   "outputs": [],
   "source": [
    "$ python manage.py migrate --fake appname zero\n",
    "$ python manage.py migrate appname"
   ]
  },
  {
   "cell_type": "markdown",
   "metadata": {},
   "source": [
    "### Playing with API"
   ]
  },
  {
   "cell_type": "code",
   "execution_count": null,
   "metadata": {},
   "outputs": [],
   "source": [
    "# Enter with\n",
    "$ python manage.py shell"
   ]
  },
  {
   "cell_type": "code",
   "execution_count": null,
   "metadata": {},
   "outputs": [],
   "source": [
    "# Play with the API\n",
    "from polls.models import Question, Choice   # Import the model classes we just wrote.\n",
    "\n",
    "Question.objects.all() # List all Question instances\n",
    "\n",
    "# Create a question (a row in a table)\n",
    "from django.utils import timezone\n",
    "q = Question(question_text=\"What's new?\", pub_date=timezone.now())\n",
    "q.save() # Save into database!\n",
    "\n",
    "# Call its attributes\n",
    "q.id\n",
    "q.question_text\n",
    "# Change values\n",
    "q.question_text = \"What's up?\"\n",
    "q.save()"
   ]
  },
  {
   "cell_type": "markdown",
   "metadata": {},
   "source": [
    "### Create an admin user and admin page"
   ]
  },
  {
   "cell_type": "code",
   "execution_count": null,
   "metadata": {},
   "outputs": [],
   "source": [
    "# Create admin user.\n",
    "$ python manage.py createsuperuser"
   ]
  },
  {
   "cell_type": "code",
   "execution_count": null,
   "metadata": {},
   "outputs": [],
   "source": [
    "# Enter the admin site at http://127.0.0.1:8000/admin/\n",
    "$ python manage.py runserver 8000"
   ]
  },
  {
   "cell_type": "code",
   "execution_count": null,
   "metadata": {},
   "outputs": [],
   "source": [
    "# Make the poll app modifiable in admin.\n",
    "# edit polls/admin.py\n",
    "from django.contrib import admin\n",
    "\n",
    "from .models import Question\n",
    "\n",
    "admin.site.register(Question)\n",
    "\n",
    "# Now you have the options to add, remove and edit questions."
   ]
  },
  {
   "cell_type": "markdown",
   "metadata": {},
   "source": [
    "## Adding more views\n",
    "The public interface!\n",
    "In our poll application, we’ll have the following four views:\n",
    "\n",
    "- Question “index” page – displays the latest few questions.\n",
    "- Question “detail” page – displays a question text, with no results but with a form to vote.\n",
    "- Question “results” page – displays results for a particular question.\n",
    "- Vote action – handles voting for a particular choice in a particular question.\n",
    "\n",
    "In Django, web pages and other content are delivered by views. Each view is represented by a simple Python function (or method, in the case of class-based views). Django will choose a view by examining the URL that’s requested (to be precise, the part of the URL after the domain name)."
   ]
  },
  {
   "cell_type": "code",
   "execution_count": null,
   "metadata": {},
   "outputs": [],
   "source": [
    "# Edit polls/views.py, add\n",
    "def detail(request, question_id):\n",
    "    return HttpResponse(\"You're looking at question %s.\" % question_id)\n",
    "\n",
    "def results(request, question_id):\n",
    "    response = \"You're looking at the results of question %s.\"\n",
    "    return HttpResponse(response % question_id)\n",
    "\n",
    "def vote(request, question_id):\n",
    "    return HttpResponse(\"You're voting on question %s.\" % question_id)"
   ]
  },
  {
   "cell_type": "code",
   "execution_count": null,
   "metadata": {},
   "outputs": [],
   "source": [
    "# Edit polls/urls.py\n",
    "# Link views to urls.\n",
    "urlpatterns = [\n",
    "    # ex: /polls/\n",
    "    url(r'^$', views.index, name='index'),\n",
    "    # ex: /polls/5/\n",
    "    url(r'^(?P<question_id>[0-9]+)/$', views.detail, name='detail'),\n",
    "    # ex: /polls/5/results/\n",
    "    url(r'^(?P<question_id>[0-9]+)/results/$', views.results, name='results'),\n",
    "    # ex: /polls/5/vote/\n",
    "    url(r'^(?P<question_id>[0-9]+)/vote/$', views.vote, name='vote'),\n",
    "]"
   ]
  },
  {
   "cell_type": "markdown",
   "metadata": {},
   "source": [
    "### Views that actually do something"
   ]
  },
  {
   "cell_type": "code",
   "execution_count": null,
   "metadata": {},
   "outputs": [],
   "source": [
    "# Edit polls/views.py\n",
    "# Use the Django's own API.\n",
    "# List the latest 5 questions, separated by \",\".\n",
    "def index(request):\n",
    "    latest_question_list = Question.objects.order_by('-pub_date')[:5]\n",
    "    output = ', '.join([q.question_text for q in latest_question_list])\n",
    "    return HttpResponse(output)"
   ]
  },
  {
   "cell_type": "markdown",
   "metadata": {},
   "source": [
    "There’s a problem here, though: the page’s design is hard-coded in the view. If you want to change the way the page looks, you’ll have to edit this Python code. So let’s use Django’s template system to separate the design from Python by creating a template that the view can use."
   ]
  },
  {
   "cell_type": "markdown",
   "metadata": {},
   "source": [
    "### Templates"
   ]
  },
  {
   "cell_type": "code",
   "execution_count": null,
   "metadata": {},
   "outputs": [],
   "source": [
    "# Create index.html in polls/templates/polls/\n",
    "# You can refer to it simply with polls/index.html\n",
    "# Variables are passed with the views.py functions (context maps variables to python objects)\n",
    "{% if latest_question_list %}\n",
    "    <ul>\n",
    "    {% for question in latest_question_list %}\n",
    "        <li><a href=\"/polls/{{ question.id }}/\">{{ question.question_text }}</a></li>\n",
    "    {% endfor %}\n",
    "    </ul>\n",
    "{% else %}\n",
    "    <p>No polls are available.</p>\n",
    "{% endif %}"
   ]
  },
  {
   "cell_type": "code",
   "execution_count": null,
   "metadata": {},
   "outputs": [],
   "source": [
    "# Edit polls/views.py\n",
    "from django.http import HttpResponse\n",
    "from django.template import loader\n",
    "\n",
    "from .models import Question\n",
    "\n",
    "\n",
    "def index(request):\n",
    "    latest_question_list = Question.objects.order_by('-pub_date')[:5]\n",
    "    template = loader.get_template('polls/index.html') # Load the template\n",
    "    context = {'latest_question_list': latest_question_list,} # Map template variables to python objects\n",
    "    return HttpResponse(template.render(context, request))"
   ]
  },
  {
   "cell_type": "code",
   "execution_count": null,
   "metadata": {},
   "outputs": [],
   "source": [
    "# Second option:\n",
    "# The render() function takes the request object as its first argument,\n",
    "# a template name as its second argument and a dictionary as its optional third argument.\n",
    "# It returns an HttpResponse object of the given template rendered with the given context.\n",
    "from django.shortcuts import render\n",
    "\n",
    "from .models import Question\n",
    "\n",
    "def index(request):\n",
    "    latest_question_list = Question.objects.order_by('-pub_date')[:5]\n",
    "    context = {'latest_question_list': latest_question_list}\n",
    "    return render(request, 'polls/index.html', context)"
   ]
  },
  {
   "cell_type": "markdown",
   "metadata": {},
   "source": [
    "### Raising a 404 error"
   ]
  },
  {
   "cell_type": "code",
   "execution_count": null,
   "metadata": {},
   "outputs": [],
   "source": [
    "# Edit polls/views.py\n",
    "# The new concept here: The view raises the Http404 exception if a question with the requested ID doesn’t exist.\n",
    "from django.http import Http404\n",
    "from django.shortcuts import render\n",
    "\n",
    "def detail(request, question_id):\n",
    "    try:\n",
    "        question = Question.objects.get(pk=question_id)\n",
    "    except Question.DoesNotExist:\n",
    "        raise Http404(\"Question does not exist\")\n",
    "    return render(request, 'polls/detail.html', {'question': question})"
   ]
  },
  {
   "cell_type": "code",
   "execution_count": null,
   "metadata": {},
   "outputs": [],
   "source": [
    "# Second option:\n",
    "# The get_object_or_404() function takes a Django model as its first argument\n",
    "# and an arbitrary number of keyword arguments, which it passes to the\n",
    "# get() function of the model’s manager. It raises Http404 if the object doesn’t exist.\n",
    "from django.shortcuts import get_object_or_404, render\n",
    "\n",
    "from .models import Question\n",
    "# ...\n",
    "def detail(request, question_id):\n",
    "    question = get_object_or_404(Question, pk=question_id)\n",
    "    return render(request, 'polls/detail.html', {'question': question})"
   ]
  },
  {
   "cell_type": "markdown",
   "metadata": {},
   "source": [
    "#### Usign the template for detail"
   ]
  },
  {
   "cell_type": "code",
   "execution_count": null,
   "metadata": {},
   "outputs": [],
   "source": [
    "# Edit polls/templates/polls/detail.html\n",
    "# At the top show the question and list possible answers for it.\n",
    "<h1>{{ question.question_text }}</h1>\n",
    "<ul>\n",
    "{% for choice in question.choice_set.all %}\n",
    "    <li>{{ choice.choice_text }}</li>\n",
    "{% endfor %}\n",
    "</ul>"
   ]
  },
  {
   "cell_type": "markdown",
   "metadata": {},
   "source": [
    "### Removing hardcoded URLs in templates\n"
   ]
  },
  {
   "cell_type": "code",
   "execution_count": null,
   "metadata": {},
   "outputs": [],
   "source": [
    "# Edit polls/templates/polls/index.html\n",
    "# The url now changes according to changes in polls.urls module\n",
    "<li><a href=\"{% url 'detail' question.id %}\">{{ question.question_text }}</a></li>"
   ]
  },
  {
   "cell_type": "markdown",
   "metadata": {},
   "source": [
    "### Namespacing URL names\n",
    "When django project has alot of apps, it needs to know which app view to create for an url when using {% url %}."
   ]
  },
  {
   "cell_type": "code",
   "execution_count": null,
   "metadata": {},
   "outputs": [],
   "source": [
    "# Edit polls/urls.py, add app_name = 'polls'\n",
    "from django.conf.urls import url\n",
    "\n",
    "from . import views\n",
    "\n",
    "app_name = 'polls'\n",
    "urlpatterns = [\n",
    "    url(r'^$', views.index, name='index'),\n",
    "    url(r'^(?P<question_id>[0-9]+)/$', views.detail, name='detail'),\n",
    "    url(r'^(?P<question_id>[0-9]+)/results/$', views.results, name='results'),\n",
    "    url(r'^(?P<question_id>[0-9]+)/vote/$', views.vote, name='vote'),\n",
    "]"
   ]
  },
  {
   "cell_type": "code",
   "execution_count": null,
   "metadata": {},
   "outputs": [],
   "source": [
    "# Edit polls/templates/polls/index.html\n",
    "<li><a href=\"{% url 'polls:detail' question.id %}\">{{ question.question_text }}</a></li>"
   ]
  },
  {
   "cell_type": "markdown",
   "metadata": {},
   "source": [
    "## Write a simple form\n"
   ]
  },
  {
   "cell_type": "code",
   "execution_count": null,
   "metadata": {},
   "outputs": [],
   "source": [
    "# Edit polls/templates/polls/detail.html\n",
    "# It displays a radio botton for each question choice.\n",
    "<h1>{{ question.question_text }}</h1>\n",
    "\n",
    "{% if error_message %}<p><strong>{{ error_message }}</strong></p>{% endif %}\n",
    "\n",
    "<form action=\"{% url 'polls:vote' question.id %}\" method=\"post\">\n",
    "{% csrf_token %}\n",
    "{% for choice in question.choice_set.all %}\n",
    "    <input type=\"radio\" name=\"choice\" id=\"choice{{ forloop.counter }}\" value=\"{{ choice.id }}\" />\n",
    "    <label for=\"choice{{ forloop.counter }}\">{{ choice.choice_text }}</label><br />\n",
    "{% endfor %}\n",
    "<input type=\"submit\" value=\"Vote\" />\n",
    "</form>"
   ]
  },
  {
   "cell_type": "code",
   "execution_count": null,
   "metadata": {},
   "outputs": [],
   "source": [
    "# Edit polls/views.py\n",
    "from django.shortcuts import get_object_or_404, render\n",
    "from django.http import HttpResponseRedirect, HttpResponse\n",
    "from django.urls import reverse\n",
    "\n",
    "from .models import Choice, Question\n",
    "# ...\n",
    "def vote(request, question_id):\n",
    "    question = get_object_or_404(Question, pk=question_id)\n",
    "    try:\n",
    "        selected_choice = question.choice_set.get(pk=request.POST['choice'])\n",
    "        # request.POST is a dictionary that lets you access submitted data by key name.\n",
    "        # request.POSt[\"choice\"] returns the ID of the selected choice as a string.\n",
    "    except (KeyError, Choice.DoesNotExist):\n",
    "        # Redisplay the question voting form.\n",
    "        return render(request, 'polls/detail.html', {\n",
    "            'question': question,\n",
    "            'error_message': \"You didn't select a choice.\",\n",
    "        })\n",
    "    else:\n",
    "        selected_choice.votes += 1\n",
    "        selected_choice.save()\n",
    "        # Always return an HttpResponseRedirect after successfully dealing\n",
    "        # with POST data. This prevents data from being posted twice if a\n",
    "        # user hits the Back button.\n",
    "        return HttpResponseRedirect(reverse('polls:results', args=(question.id,)))\n",
    "    \n",
    "# and\n",
    "def results(request, question_id):\n",
    "    question = get_object_or_404(Question, pk=question_id)\n",
    "    return render(request, 'polls/results.html', {'question': question})"
   ]
  },
  {
   "cell_type": "code",
   "execution_count": null,
   "metadata": {},
   "outputs": [],
   "source": [
    "# Create polls/results.html template\n",
    "<h1>{{ question.question_text }}</h1>\n",
    "\n",
    "<ul>\n",
    "{% for choice in question.choice_set.all %}\n",
    "    <li>{{ choice.choice_text }} -- {{ choice.votes }} vote{{ choice.votes|pluralize }}</li>\n",
    "{% endfor %}\n",
    "</ul>\n",
    "\n",
    "<a href=\"{% url 'polls:detail' question.id %}\">Vote again?</a>"
   ]
  },
  {
   "cell_type": "markdown",
   "metadata": {},
   "source": [
    "## Generic views\n",
    "detail() and results() views represent a common case of basic Web development: getting data from the database according to a parameter passed in the URL, loading a template and returning the rendered template. Because this is so common, Django provides a shortcut, called the “generic views” system."
   ]
  },
  {
   "cell_type": "code",
   "execution_count": null,
   "metadata": {},
   "outputs": [],
   "source": [
    "# edit polls/urls.py URLconf\n",
    "from django.conf.urls import url\n",
    "\n",
    "from . import views\n",
    "\n",
    "app_name = 'polls'\n",
    "urlpatterns = [\n",
    "    url(r'^$', views.IndexView.as_view(), name='index'),\n",
    "    url(r'^(?P<pk>[0-9]+)/$', views.DetailView.as_view(), name='detail'),\n",
    "    url(r'^(?P<pk>[0-9]+)/results/$', views.ResultsView.as_view(), name='results'),\n",
    "    url(r'^(?P<question_id>[0-9]+)/vote/$', views.vote, name='vote'),\n",
    "]"
   ]
  },
  {
   "cell_type": "code",
   "execution_count": null,
   "metadata": {},
   "outputs": [],
   "source": [
    "# Remove the old index, detail and results views and use Django's generic views.\n",
    "from django.shortcuts import get_object_or_404, render\n",
    "from django.http import HttpResponseRedirect\n",
    "from django.urls import reverse\n",
    "from django.views import generic\n",
    "\n",
    "from .models import Choice, Question\n",
    "\n",
    "\n",
    "class IndexView(generic.ListView):\n",
    "    template_name = 'polls/index.html'\n",
    "    context_object_name = 'latest_question_list'\n",
    "\n",
    "    def get_queryset(self):\n",
    "        \"\"\"Return the last five published questions.\"\"\"\n",
    "        return Question.objects.order_by('-pub_date')[:5]\n",
    "\n",
    "\n",
    "class DetailView(generic.DetailView):\n",
    "    model = Question\n",
    "    template_name = 'polls/detail.html'\n",
    "\n",
    "\n",
    "class ResultsView(generic.DetailView):\n",
    "    model = Question\n",
    "    template_name = 'polls/results.html'\n",
    "# We are using 2 generic views: ListView and DetailView.\n",
    "# ListView - display a list of objects\n",
    "# Detail View - deisplay a detail page for a particular type of  object"
   ]
  },
  {
   "cell_type": "markdown",
   "metadata": {},
   "source": [
    "We are using 2 generic views: ListView and DetailView.\n",
    "- ListView - display a list of objects\n",
    "- Detail View - deisplay a detail page for a particular type of  object\n",
    "\n",
    "\n",
    "- Each generic view needs to know what model it will be acting upon. This is provided using the model attribute.\n",
    "- The DetailView generic view expects the primary key value captured from the URL to be called \"pk\", so we’ve changed question_id to pk for the generic views."
   ]
  },
  {
   "cell_type": "markdown",
   "metadata": {},
   "source": [
    "# Automated tests\n",
    "Tests are simple routines that check the operation of your code."
   ]
  },
  {
   "cell_type": "code",
   "execution_count": null,
   "metadata": {},
   "outputs": [],
   "source": [
    "# question.was_published_recently() returns true, if the question was publishedin the future.\n",
    "# edit polls/tests.py\n",
    "import datetime\n",
    "\n",
    "from django.utils import timezone\n",
    "from django.test import TestCase\n",
    "\n",
    "from .models import Question\n",
    "\n",
    "\n",
    "class QuestionModelTests(TestCase):\n",
    "\n",
    "    def test_was_published_recently_with_future_question(self):\n",
    "        \"\"\"\n",
    "        was_published_recently() returns False for questions whose pub_date\n",
    "        is in the future.\n",
    "        \"\"\"\n",
    "        time = timezone.now() + datetime.timedelta(days=30)\n",
    "        future_question = Question(pub_date=time)\n",
    "        self.assertIs(future_question.was_published_recently(), False)"
   ]
  },
  {
   "cell_type": "markdown",
   "metadata": {},
   "source": [
    "What we have done here is created a django.test.TestCase subclass with a method that creates a Question instance with a pub_date in the future. We then check the output of was_published_recently() - which ought to be False."
   ]
  },
  {
   "cell_type": "code",
   "execution_count": null,
   "metadata": {},
   "outputs": [],
   "source": [
    "# Run the test with\n",
    "$python manage.py test polls"
   ]
  },
  {
   "cell_type": "markdown",
   "metadata": {},
   "source": [
    "What happened is this:\n",
    "\n",
    "- python manage.py test polls looked for tests in the polls application\n",
    "- it found a subclass of the django.test.TestCase class\n",
    "- it created a special database for the purpose of testing\n",
    "- it looked for test methods - ones whose names begin with test\n",
    "- in test_was_published_recently_with_future_question it created a Question instance whose pub_date field is 30 days - in the future\n",
    "- … and using the assertIs() method, it discovered that its was_published_recently() returns True, though we wanted it to return False\n",
    "\n",
    "The test informs us which test failed and even the line on which the failure occurred."
   ]
  },
  {
   "cell_type": "markdown",
   "metadata": {},
   "source": [
    "#### Fixing the bug"
   ]
  },
  {
   "cell_type": "code",
   "execution_count": null,
   "metadata": {},
   "outputs": [],
   "source": [
    "# Edit polls/models.py\n",
    "def was_published_recently(self):\n",
    "    now = timezone.now()\n",
    "    return now - datetime.timedelta(days=1) <= self.pub_date <= now"
   ]
  },
  {
   "cell_type": "code",
   "execution_count": null,
   "metadata": {},
   "outputs": [],
   "source": [
    "# Run the test again.\n",
    "$python manage.py test polls\n",
    "# It should now be OK."
   ]
  },
  {
   "cell_type": "markdown",
   "metadata": {},
   "source": [
    "## More comprehensive tests"
   ]
  },
  {
   "cell_type": "code",
   "execution_count": null,
   "metadata": {},
   "outputs": [],
   "source": [
    "# edit polls/tests.py\n",
    "polls/tests.py\n",
    "def test_was_published_recently_with_old_question(self):\n",
    "    \"\"\"\n",
    "    was_published_recently() returns False for questions whose pub_date\n",
    "    is older than 1 day.\n",
    "    \"\"\"\n",
    "    time = timezone.now() - datetime.timedelta(days=1, seconds=1)\n",
    "    old_question = Question(pub_date=time)\n",
    "    self.assertIs(old_question.was_published_recently(), False)\n",
    "\n",
    "def test_was_published_recently_with_recent_question(self):\n",
    "    \"\"\"\n",
    "    was_published_recently() returns True for questions whose pub_date\n",
    "    is within the last day.\n",
    "    \"\"\"\n",
    "    time = timezone.now() - datetime.timedelta(hours=23, minutes=59, seconds=59)\n",
    "    recent_question = Question(pub_date=time)\n",
    "    self.assertIs(recent_question.was_published_recently(), True)"
   ]
  },
  {
   "cell_type": "markdown",
   "metadata": {},
   "source": [
    "## Test a view\n",
    "The polls application is fairly undiscriminating: it will publish any question, including ones whose pub_date field lies in the future. We should improve this. Setting a pub_date in the future should mean that the Question is published at that moment, but invisible until then.\n",
    "\n",
    "In our first test, we focused closely on the internal behavior of the code. For this test, we want to check its behavior as it would be experienced by a user through a web browser."
   ]
  },
  {
   "cell_type": "markdown",
   "metadata": {},
   "source": [
    "### The django test client\n",
    "Django provides a test Client to simulate a user interacting with the code at the view level. We can use it in tests.py or even in the shell.\n",
    "\n",
    "We will start again with the shell, where we need to do a couple of things that won’t be necessary in tests.py. The first is to set up the test environment in the shell:"
   ]
  },
  {
   "cell_type": "code",
   "execution_count": null,
   "metadata": {},
   "outputs": [],
   "source": [
    ">>> from django.test.utils import setup_test_environment\n",
    ">>> setup_test_environment()"
   ]
  },
  {
   "cell_type": "markdown",
   "metadata": {},
   "source": [
    "setup_test_environment() installs a template renderer which will allow us to examine some additional attributes on responses such as response.context that otherwise wouldn’t be available. Note that this method does not setup a test database, so the following will be run against the existing database and the output may differ slightly depending on what questions you already created."
   ]
  },
  {
   "cell_type": "code",
   "execution_count": null,
   "metadata": {},
   "outputs": [],
   "source": [
    ">>> from django.test import Client\n",
    ">>> # create an instance of the client for our use\n",
    ">>> client = Client()\n",
    "\n",
    ">>> # get a response from '/'\n",
    ">>> response = client.get('/')\n",
    "Not Found: /\n",
    ">>> # we should expect a 404 from that address; if you instead see an\n",
    ">>> # \"Invalid HTTP_HOST header\" error and a 400 response, you probably\n",
    ">>> # omitted the setup_test_environment() call described earlier.\n",
    ">>> response.status_code\n",
    "404\n",
    ">>> # on the other hand we should expect to find something at '/polls/'\n",
    ">>> # we'll use 'reverse()' rather than a hardcoded URL\n",
    ">>> from django.urls import reverse\n",
    ">>> response = client.get(reverse('polls:index'))\n",
    ">>> response.status_code\n",
    "200\n",
    ">>> response.content\n",
    "b'\\n    <ul>\\n    \\n        <li><a href=\"/polls/1/\">What&#39;s up?</a></li>\\n    \\n    </ul>\\n\\n'\n",
    ">>> response.context['latest_question_list']\n",
    "<QuerySet [<Question: What's up?>]>"
   ]
  },
  {
   "cell_type": "markdown",
   "metadata": {},
   "source": [
    "## Improving our view\n",
    "The list of polls shows polls that aren’t published yet (i.e. those that have a pub_date in the future). Let’s fix that."
   ]
  },
  {
   "cell_type": "code",
   "execution_count": null,
   "metadata": {},
   "outputs": [],
   "source": [
    "# edit polls/views.py\n",
    "from django.utils import timezone\n",
    "\n",
    "def get_queryset(self):\n",
    "    \"\"\"\n",
    "    Return the last five published questions (not including those set to be\n",
    "    published in the future).\n",
    "    \"\"\"\n",
    "    return Question.objects.filter(\n",
    "        pub_date__lte=timezone.now()\n",
    "    ).order_by('-pub_date')[:5]"
   ]
  },
  {
   "cell_type": "markdown",
   "metadata": {},
   "source": [
    "Question.objects.filter(pub_date__lte=timezone.now()) returns a queryset containing Questions whose pub_date is less than or equal to - that is, earlier than or equal to - timezone.now."
   ]
  },
  {
   "cell_type": "markdown",
   "metadata": {},
   "source": [
    "### Testin out new view"
   ]
  },
  {
   "cell_type": "code",
   "execution_count": null,
   "metadata": {},
   "outputs": [],
   "source": [
    "# edit polls/tests.py\n",
    "def create_question(question_text, days):\n",
    "    \"\"\"\n",
    "    Create a question with the given `question_text` and published the\n",
    "    given number of `days` offset to now (negative for questions published\n",
    "    in the past, positive for questions that have yet to be published).\n",
    "    \"\"\"\n",
    "    time = timezone.now() + datetime.timedelta(days=days)\n",
    "    return Question.objects.create(question_text=question_text, pub_date=time)\n",
    "\n",
    "\n",
    "class QuestionIndexViewTests(TestCase):\n",
    "    def test_no_questions(self):\n",
    "        \"\"\"\n",
    "        If no questions exist, an appropriate message is displayed.\n",
    "        \"\"\"\n",
    "        response = self.client.get(reverse('polls:index'))\n",
    "        self.assertEqual(response.status_code, 200)\n",
    "        self.assertContains(response, \"No polls are available.\")\n",
    "        self.assertQuerysetEqual(response.context['latest_question_list'], [])\n",
    "\n",
    "    def test_past_question(self):\n",
    "        \"\"\"\n",
    "        Questions with a pub_date in the past are displayed on the\n",
    "        index page.\n",
    "        \"\"\"\n",
    "        create_question(question_text=\"Past question.\", days=-30)\n",
    "        response = self.client.get(reverse('polls:index'))\n",
    "        self.assertQuerysetEqual(\n",
    "            response.context['latest_question_list'],\n",
    "            ['<Question: Past question.>']\n",
    "        )\n",
    "\n",
    "    def test_future_question(self):\n",
    "        \"\"\"\n",
    "        Questions with a pub_date in the future aren't displayed on\n",
    "        the index page.\n",
    "        \"\"\"\n",
    "        create_question(question_text=\"Future question.\", days=30)\n",
    "        response = self.client.get(reverse('polls:index'))\n",
    "        self.assertContains(response, \"No polls are available.\")\n",
    "        self.assertQuerysetEqual(response.context['latest_question_list'], [])\n",
    "\n",
    "    def test_future_question_and_past_question(self):\n",
    "        \"\"\"\n",
    "        Even if both past and future questions exist, only past questions\n",
    "        are displayed.\n",
    "        \"\"\"\n",
    "        create_question(question_text=\"Past question.\", days=-30)\n",
    "        create_question(question_text=\"Future question.\", days=30)\n",
    "        response = self.client.get(reverse('polls:index'))\n",
    "        self.assertQuerysetEqual(\n",
    "            response.context['latest_question_list'],\n",
    "            ['<Question: Past question.>']\n",
    "        )\n",
    "\n",
    "    def test_two_past_questions(self):\n",
    "        \"\"\"\n",
    "        The questions index page may display multiple questions.\n",
    "        \"\"\"\n",
    "        create_question(question_text=\"Past question 1.\", days=-30)\n",
    "        create_question(question_text=\"Past question 2.\", days=-5)\n",
    "        response = self.client.get(reverse('polls:index'))\n",
    "        self.assertQuerysetEqual(\n",
    "            response.context['latest_question_list'],\n",
    "            ['<Question: Past question 2.>', '<Question: Past question 1.>']\n",
    "        )"
   ]
  },
  {
   "cell_type": "markdown",
   "metadata": {},
   "source": [
    "### Testing detail views"
   ]
  },
  {
   "cell_type": "code",
   "execution_count": null,
   "metadata": {},
   "outputs": [],
   "source": [
    "# edit polls/views.py\n",
    "class DetailView(generic.DetailView):\n",
    "    ...\n",
    "    def get_queryset(self):\n",
    "        \"\"\"\n",
    "        Excludes any questions that aren't published yet.\n",
    "        \"\"\"\n",
    "        return Question.objects.filter(pub_date__lte=timezone.now())"
   ]
  },
  {
   "cell_type": "code",
   "execution_count": null,
   "metadata": {},
   "outputs": [],
   "source": [
    "# edit polls/tests.py\n",
    "class QuestionDetailViewTests(TestCase):\n",
    "    def test_future_question(self):\n",
    "        \"\"\"\n",
    "        The detail view of a question with a pub_date in the future\n",
    "        returns a 404 not found.\n",
    "        \"\"\"\n",
    "        future_question = create_question(question_text='Future question.', days=5)\n",
    "        url = reverse('polls:detail', args=(future_question.id,))\n",
    "        response = self.client.get(url)\n",
    "        self.assertEqual(response.status_code, 404)\n",
    "\n",
    "    def test_past_question(self):\n",
    "        \"\"\"\n",
    "        The detail view of a question with a pub_date in the past\n",
    "        displays the question's text.\n",
    "        \"\"\"\n",
    "        past_question = create_question(question_text='Past Question.', days=-5)\n",
    "        url = reverse('polls:detail', args=(past_question.id,))\n",
    "        response = self.client.get(url)\n",
    "        self.assertContains(response, past_question.question_text)"
   ]
  },
  {
   "cell_type": "markdown",
   "metadata": {},
   "source": [
    "# Static files"
   ]
  },
  {
   "cell_type": "code",
   "execution_count": 1,
   "metadata": {},
   "outputs": [],
   "source": [
    "# Add folder polls/static/polls\n",
    "# Add file style.css\n",
    "# Add image \"background.JPG\" to polls/static/polls/images\n",
    "# Edit style.css\n",
    "li a {\n",
    "    color: green;\n",
    "}\n",
    "\n",
    "body {\n",
    "    background: white url(\"images/background.JPG\") no-repeat right bottom;\n",
    "}"
   ]
  },
  {
   "cell_type": "code",
   "execution_count": null,
   "metadata": {},
   "outputs": [],
   "source": [
    "# Edit polls/templates/polls/index.html\n",
    "# Add the following code to the top.\n",
    "\n",
    "{% load static %}\n",
    "\n",
    "<link rel=\"stylesheet\" type=\"text/css\" href=\"{% static 'polls/style.css' %}\" />"
   ]
  }
 ],
 "metadata": {
  "kernelspec": {
   "display_name": "django_study_2.7",
   "language": "python",
   "name": "django_study_2.7"
  },
  "language_info": {
   "codemirror_mode": {
    "name": "ipython",
    "version": 2
   },
   "file_extension": ".py",
   "mimetype": "text/x-python",
   "name": "python",
   "nbconvert_exporter": "python",
   "pygments_lexer": "ipython2",
   "version": "2.7.14"
  }
 },
 "nbformat": 4,
 "nbformat_minor": 2
}
