{
 "cells": [
  {
   "cell_type": "markdown",
   "metadata": {},
   "source": [
    "### Creating the project"
   ]
  },
  {
   "cell_type": "code",
   "execution_count": null,
   "metadata": {},
   "outputs": [],
   "source": [
    "# create the project:\n",
    "$ django-admin startproject mysite\n",
    "\n",
    "# the infrastructure:\n",
    "mysite/ # name doesn't matter\n",
    "    manage.py # for  interaction with project\n",
    "    mysite/\n",
    "        __init__.py\n",
    "        settings.py # project settings\n",
    "        urls.py # \"table of content\"\n",
    "        wsgi.py # start for wsgi servers"
   ]
  },
  {
   "cell_type": "code",
   "execution_count": null,
   "metadata": {},
   "outputs": [],
   "source": [
    "# in folder mysite run the server\n",
    "$ python manage.py runserver 8000\n",
    "# access it at http://127.0.0.1:8000/"
   ]
  },
  {
   "cell_type": "markdown",
   "metadata": {},
   "source": [
    "### Creating an app"
   ]
  },
  {
   "cell_type": "code",
   "execution_count": null,
   "metadata": {},
   "outputs": [],
   "source": [
    "# in main folder mysite/ create an app\n",
    "$ python manage.py startapp polls\n",
    "\n",
    "# the infrastructure\n",
    "polls/\n",
    "    __init__.py\n",
    "    admin.py\n",
    "    apps.py\n",
    "    migrations/\n",
    "        __init__.py\n",
    "    models.py\n",
    "    tests.py\n",
    "    views.py\n",
    "    -> urls.py # add later"
   ]
  },
  {
   "cell_type": "markdown",
   "metadata": {},
   "source": [
    "#### Write the first view"
   ]
  },
  {
   "cell_type": "code",
   "execution_count": null,
   "metadata": {},
   "outputs": [],
   "source": [
    "# edit polls/views.py\n",
    "from django.http import HttpResponse\n",
    "\n",
    "\n",
    "def index(request):\n",
    "    return HttpResponse(\"Hello, world. You're at the polls index.\")\n",
    "# The simplest view in Django.\n",
    "# To call it we need to map it to URL."
   ]
  },
  {
   "cell_type": "code",
   "execution_count": null,
   "metadata": {},
   "outputs": [],
   "source": [
    "# Add \"urls.py\"  to the polls/ folder\n",
    "# edit polls/urls.py\n",
    "from django.conf.urls import url\n",
    "\n",
    "from . import views\n",
    "\n",
    "urlpatterns = [\n",
    "    url(r'^$', views.index, name='index'),\n",
    "]"
   ]
  },
  {
   "cell_type": "code",
   "execution_count": null,
   "metadata": {},
   "outputs": [],
   "source": [
    "# Point the root URLconf at polls.urls module\n",
    "# edit mysite/urls.py\n",
    "from django.conf.urls import include, url\n",
    "from django.contrib import admin\n",
    "\n",
    "urlpatterns = [\n",
    "    url(r'^polls/', include('polls.urls')),\n",
    "    url(r'^admin/', admin.site.urls),\n",
    "]\n",
    "\n",
    "# Always use include for other URL patterns.\n",
    "# admin.site.urls is the only exception."
   ]
  },
  {
   "cell_type": "code",
   "execution_count": null,
   "metadata": {},
   "outputs": [],
   "source": [
    "# Try if the view works.\n",
    "$ python manage.py runserver 8000\n",
    "# Access it at http://127.0.0.1:8000/polls/\n",
    "# You should see the text."
   ]
  },
  {
   "cell_type": "markdown",
   "metadata": {},
   "source": [
    "#### Database setup"
   ]
  },
  {
   "cell_type": "code",
   "execution_count": null,
   "metadata": {},
   "outputs": [],
   "source": [
    "# change mysite/settings.py\n",
    "DATABASES = {\n",
    "    'default': {\n",
    "        'ENGINE': 'django.db.backends.postgresql',\n",
    "        'NAME': 'mydatabase',\n",
    "        'USER': 'mydatabaseuser',\n",
    "        'PASSWORD': 'mypassword',\n",
    "        'HOST': '127.0.0.1',\n",
    "        'PORT': '5432',\n",
    "    }\n",
    "}"
   ]
  },
  {
   "cell_type": "code",
   "execution_count": null,
   "metadata": {},
   "outputs": [],
   "source": [
    "# The INSTALLED_APS contains the default apps.\n",
    "# Some of them need at least one database table, so create it:\n",
    "$ python manage.py migrate\n",
    "# It looks at the INSTALLED_APS  and creates neccessaty DBs.\n",
    "# Check with \\dt in postgreSQL."
   ]
  },
  {
   "cell_type": "markdown",
   "metadata": {},
   "source": [
    "### Creating models\n",
    "Essentially the database layout."
   ]
  },
  {
   "cell_type": "code",
   "execution_count": null,
   "metadata": {},
   "outputs": [],
   "source": [
    "# edit polls/models.py\n",
    "# Class represents a database table.\n",
    "# Class attributes represent a table field.\n",
    "from django.db import models\n",
    "\n",
    "\n",
    "class Question(models.Model):\n",
    "    question_text = models.CharField(max_length=200)\n",
    "    pub_date = models.DateTimeField('date published')\n",
    "\n",
    "\n",
    "class Choice(models.Model):\n",
    "    question = models.ForeignKey(Question, on_delete=models.CASCADE)\n",
    "    choice_text = models.CharField(max_length=200)\n",
    "    votes = models.IntegerField(default=0)"
   ]
  },
  {
   "cell_type": "markdown",
   "metadata": {},
   "source": [
    "#### Activating model"
   ]
  },
  {
   "cell_type": "code",
   "execution_count": null,
   "metadata": {},
   "outputs": [],
   "source": [
    "# Add the new model myseite/settings.py\n",
    "INSTALLED_APPS = [\n",
    "    'polls.apps.PollsConfig',\n",
    "    ...\n",
    "]\n",
    "\n",
    "# Tell django you made changes\n",
    "$ python manage.py makemigrations polls\n",
    "# Migrations is how django stores changes to models\n",
    "# What would that migrate do?\n",
    "$ python manage.py sqlmigrate polls 0001\n",
    "\n",
    "# Now run migrate again to create those model tables in DB\n",
    "$ python manage.py migrate\n",
    "# It takes all the migrations that you haven't applies and runs them."
   ]
  },
  {
   "cell_type": "code",
   "execution_count": null,
   "metadata": {},
   "outputs": [],
   "source": [
    "1. # Change your models (in models.py).\n",
    "2. $ python manage.py makemigrations # to create migrations for those changes\n",
    "3. $ python manage.py migrate # to apply those changes to the database."
   ]
  },
  {
   "cell_type": "markdown",
   "metadata": {},
   "source": [
    "### Playing with API"
   ]
  },
  {
   "cell_type": "code",
   "execution_count": null,
   "metadata": {},
   "outputs": [],
   "source": [
    "# Enter with\n",
    "$ python manage.py shell"
   ]
  },
  {
   "cell_type": "code",
   "execution_count": null,
   "metadata": {},
   "outputs": [],
   "source": [
    "# Play with the API\n",
    "from polls.models import Question, Choice   # Import the model classes we just wrote.\n",
    "\n",
    "Question.objects.all() # List all Question instances\n",
    "\n",
    "# Create a question (a row in a table)\n",
    "from django.utils import timezone\n",
    "q = Question(question_text=\"What's new?\", pub_date=timezone.now())\n",
    "q.save() # Save into database!\n",
    "\n",
    "# Call its attributes\n",
    "q.id\n",
    "q.question_text\n",
    "# Change values\n",
    "q.question_text = \"What's up?\"\n",
    "q.save()"
   ]
  },
  {
   "cell_type": "markdown",
   "metadata": {},
   "source": [
    "### Create an admin user and admin pagr"
   ]
  },
  {
   "cell_type": "code",
   "execution_count": null,
   "metadata": {},
   "outputs": [],
   "source": [
    "# Create admin user.\n",
    "$ python manage.py createsuperuser"
   ]
  },
  {
   "cell_type": "code",
   "execution_count": null,
   "metadata": {},
   "outputs": [],
   "source": [
    "# Enter the admin site at http://127.0.0.1:8000/admin/\n",
    "$ python manage.py runserver 8000"
   ]
  },
  {
   "cell_type": "code",
   "execution_count": null,
   "metadata": {},
   "outputs": [],
   "source": [
    "# Make the poll app modifiable in admin.\n",
    "# edit polls/admin.py\n",
    "from django.contrib import admin\n",
    "\n",
    "from .models import Question\n",
    "\n",
    "admin.site.register(Question)\n",
    "\n",
    "# Now you have the options to add, remove and edit questions."
   ]
  },
  {
   "cell_type": "code",
   "execution_count": null,
   "metadata": {},
   "outputs": [],
   "source": []
  }
 ],
 "metadata": {
  "kernelspec": {
   "display_name": "Python 2",
   "language": "python",
   "name": "python2"
  },
  "language_info": {
   "codemirror_mode": {
    "name": "ipython",
    "version": 2
   },
   "file_extension": ".py",
   "mimetype": "text/x-python",
   "name": "python",
   "nbconvert_exporter": "python",
   "pygments_lexer": "ipython2",
   "version": "2.7.14"
  }
 },
 "nbformat": 4,
 "nbformat_minor": 2
}
